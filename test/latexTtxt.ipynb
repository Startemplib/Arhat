{
 "cells": [
  {
   "cell_type": "code",
   "execution_count": 2,
   "metadata": {},
   "outputs": [
    {
     "name": "stdout",
     "output_type": "stream",
     "text": [
      "转换后的文件名: Wavelength_vs_Power_for_Different_Currents.txt\n"
     ]
    }
   ],
   "source": [
    "####### LaTeX to txt #######\n",
    "\n",
    "### title                     (str)       LaTeX 格式的标题, 需要转换为文件名\n",
    "\n",
    "import re\n",
    "from pylatexenc.latex2text import LatexNodes2Text\n",
    "\n",
    "def latexTtxt(latex):\n",
    "    \"\"\"\n",
    "    将 LaTeX 格式的标题转换为有效的文件名。\n",
    "\n",
    "    Parameters:\n",
    "        latex (str): LaTeX 格式的标题。\n",
    "\n",
    "    Returns:\n",
    "        str: 转换后的有效文件名。\n",
    "    \"\"\"\n",
    "    # 使用 pylatexenc 解析 LaTeX 文本\n",
    "    sanitized = LatexNodes2Text().latex_to_text(latex)\n",
    "\n",
    "    # 进一步清理文件系统非法字符\n",
    "    sanitized = re.sub(r'[\\\\^&%$#@!*:<>?|\"/]', \"\", sanitized)  # 移除文件系统非法字符\n",
    "    sanitized = sanitized.replace(\" \", \"_\")  # 替换空格为下划线\n",
    "\n",
    "    return sanitized\n",
    "\n",
    "\n",
    "# 示例调用\n",
    "title = r\"\\textbf{Wavelength vs Power for $Different$ Currents}\"\n",
    "filename = latexTtxt(title) + \".txt\"\n",
    "print(f\"转换后的文件名: {filename}\")\n"
   ]
  }
 ],
 "metadata": {
  "kernelspec": {
   "display_name": "Python 3",
   "language": "python",
   "name": "python3"
  },
  "language_info": {
   "codemirror_mode": {
    "name": "ipython",
    "version": 3
   },
   "file_extension": ".py",
   "mimetype": "text/x-python",
   "name": "python",
   "nbconvert_exporter": "python",
   "pygments_lexer": "ipython3",
   "version": "undefined.undefined.undefined"
  }
 },
 "nbformat": 4,
 "nbformat_minor": 2
}
